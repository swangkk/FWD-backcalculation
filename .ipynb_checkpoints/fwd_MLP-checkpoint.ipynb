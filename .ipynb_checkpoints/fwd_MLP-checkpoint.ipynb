{
 "cells": [
  {
   "cell_type": "code",
   "execution_count": 26,
   "metadata": {},
   "outputs": [],
   "source": [
    "import numpy as np\n",
    "import pandas as pd\n",
    "import datetime\n",
    "\n",
    "from keras.models import Sequential\n",
    "from keras.layers import Dropout\n",
    "from keras.layers import Dense, Activation, BatchNormalization"
   ]
  },
  {
   "cell_type": "code",
   "execution_count": 27,
   "metadata": {},
   "outputs": [
    {
     "name": "stdout",
     "output_type": "stream",
     "text": [
      "(5000, 14)\n"
     ]
    }
   ],
   "source": [
    "df_data = pd.read_csv('fwd_data.csv')\n",
    "\n",
    "print(df_data.shape)"
   ]
  },
  {
   "cell_type": "code",
   "execution_count": 28,
   "metadata": {},
   "outputs": [
    {
     "data": {
      "text/html": [
       "<div>\n",
       "<style scoped>\n",
       "    .dataframe tbody tr th:only-of-type {\n",
       "        vertical-align: middle;\n",
       "    }\n",
       "\n",
       "    .dataframe tbody tr th {\n",
       "        vertical-align: top;\n",
       "    }\n",
       "\n",
       "    .dataframe thead th {\n",
       "        text-align: right;\n",
       "    }\n",
       "</style>\n",
       "<table border=\"1\" class=\"dataframe\">\n",
       "  <thead>\n",
       "    <tr style=\"text-align: right;\">\n",
       "      <th></th>\n",
       "      <th>d-12</th>\n",
       "      <th>d0</th>\n",
       "      <th>d12</th>\n",
       "      <th>d24</th>\n",
       "      <th>d36</th>\n",
       "      <th>d48</th>\n",
       "      <th>d60</th>\n",
       "      <th>d72</th>\n",
       "      <th>Load</th>\n",
       "      <th>T_conc</th>\n",
       "      <th>T_base</th>\n",
       "      <th>E_subg</th>\n",
       "      <th>E_base</th>\n",
       "      <th>E_conc</th>\n",
       "    </tr>\n",
       "  </thead>\n",
       "  <tbody>\n",
       "    <tr>\n",
       "      <td>0</td>\n",
       "      <td>3.5530</td>\n",
       "      <td>4.8470</td>\n",
       "      <td>3.5530</td>\n",
       "      <td>2.740190</td>\n",
       "      <td>2.076770</td>\n",
       "      <td>1.594890</td>\n",
       "      <td>1.315030</td>\n",
       "      <td>1.108210</td>\n",
       "      <td>12000</td>\n",
       "      <td>300</td>\n",
       "      <td>300</td>\n",
       "      <td>20</td>\n",
       "      <td>30</td>\n",
       "      <td>500</td>\n",
       "    </tr>\n",
       "    <tr>\n",
       "      <td>1</td>\n",
       "      <td>3.0134</td>\n",
       "      <td>4.2338</td>\n",
       "      <td>3.0134</td>\n",
       "      <td>2.360310</td>\n",
       "      <td>1.839380</td>\n",
       "      <td>1.460430</td>\n",
       "      <td>1.218010</td>\n",
       "      <td>1.020100</td>\n",
       "      <td>12000</td>\n",
       "      <td>300</td>\n",
       "      <td>300</td>\n",
       "      <td>20</td>\n",
       "      <td>70</td>\n",
       "      <td>500</td>\n",
       "    </tr>\n",
       "    <tr>\n",
       "      <td>2</td>\n",
       "      <td>1.9784</td>\n",
       "      <td>3.0449</td>\n",
       "      <td>1.9784</td>\n",
       "      <td>1.638870</td>\n",
       "      <td>1.379580</td>\n",
       "      <td>1.174870</td>\n",
       "      <td>1.003340</td>\n",
       "      <td>0.833185</td>\n",
       "      <td>12000</td>\n",
       "      <td>300</td>\n",
       "      <td>300</td>\n",
       "      <td>20</td>\n",
       "      <td>350</td>\n",
       "      <td>500</td>\n",
       "    </tr>\n",
       "    <tr>\n",
       "      <td>3</td>\n",
       "      <td>1.4079</td>\n",
       "      <td>2.3631</td>\n",
       "      <td>1.4079</td>\n",
       "      <td>1.246110</td>\n",
       "      <td>1.116860</td>\n",
       "      <td>0.990264</td>\n",
       "      <td>0.857186</td>\n",
       "      <td>0.714686</td>\n",
       "      <td>12000</td>\n",
       "      <td>300</td>\n",
       "      <td>300</td>\n",
       "      <td>20</td>\n",
       "      <td>1400</td>\n",
       "      <td>500</td>\n",
       "    </tr>\n",
       "    <tr>\n",
       "      <td>4</td>\n",
       "      <td>0.8913</td>\n",
       "      <td>1.7767</td>\n",
       "      <td>0.8913</td>\n",
       "      <td>0.826312</td>\n",
       "      <td>0.762963</td>\n",
       "      <td>0.686354</td>\n",
       "      <td>0.598195</td>\n",
       "      <td>0.502679</td>\n",
       "      <td>12000</td>\n",
       "      <td>300</td>\n",
       "      <td>300</td>\n",
       "      <td>20</td>\n",
       "      <td>14000</td>\n",
       "      <td>500</td>\n",
       "    </tr>\n",
       "    <tr>\n",
       "      <td>5</td>\n",
       "      <td>2.7353</td>\n",
       "      <td>3.4013</td>\n",
       "      <td>2.7353</td>\n",
       "      <td>2.224820</td>\n",
       "      <td>1.768450</td>\n",
       "      <td>1.419290</td>\n",
       "      <td>1.172140</td>\n",
       "      <td>0.957926</td>\n",
       "      <td>12000</td>\n",
       "      <td>300</td>\n",
       "      <td>300</td>\n",
       "      <td>20</td>\n",
       "      <td>30</td>\n",
       "      <td>1000</td>\n",
       "    </tr>\n",
       "    <tr>\n",
       "      <td>6</td>\n",
       "      <td>2.4309</td>\n",
       "      <td>3.0640</td>\n",
       "      <td>2.4309</td>\n",
       "      <td>1.993870</td>\n",
       "      <td>1.613300</td>\n",
       "      <td>1.322090</td>\n",
       "      <td>1.106340</td>\n",
       "      <td>0.911537</td>\n",
       "      <td>12000</td>\n",
       "      <td>300</td>\n",
       "      <td>300</td>\n",
       "      <td>20</td>\n",
       "      <td>70</td>\n",
       "      <td>1000</td>\n",
       "    </tr>\n",
       "    <tr>\n",
       "      <td>7</td>\n",
       "      <td>1.6978</td>\n",
       "      <td>2.2476</td>\n",
       "      <td>1.6978</td>\n",
       "      <td>1.450690</td>\n",
       "      <td>1.250700</td>\n",
       "      <td>1.085750</td>\n",
       "      <td>0.934309</td>\n",
       "      <td>0.778159</td>\n",
       "      <td>12000</td>\n",
       "      <td>300</td>\n",
       "      <td>300</td>\n",
       "      <td>20</td>\n",
       "      <td>350</td>\n",
       "      <td>1000</td>\n",
       "    </tr>\n",
       "    <tr>\n",
       "      <td>8</td>\n",
       "      <td>1.2053</td>\n",
       "      <td>1.6507</td>\n",
       "      <td>1.2053</td>\n",
       "      <td>1.096470</td>\n",
       "      <td>0.996473</td>\n",
       "      <td>0.889481</td>\n",
       "      <td>0.773159</td>\n",
       "      <td>0.649443</td>\n",
       "      <td>12000</td>\n",
       "      <td>300</td>\n",
       "      <td>300</td>\n",
       "      <td>20</td>\n",
       "      <td>1400</td>\n",
       "      <td>1000</td>\n",
       "    </tr>\n",
       "    <tr>\n",
       "      <td>9</td>\n",
       "      <td>0.7776</td>\n",
       "      <td>1.1785</td>\n",
       "      <td>0.7776</td>\n",
       "      <td>0.725970</td>\n",
       "      <td>0.670631</td>\n",
       "      <td>0.604005</td>\n",
       "      <td>0.528459</td>\n",
       "      <td>0.447075</td>\n",
       "      <td>12000</td>\n",
       "      <td>300</td>\n",
       "      <td>300</td>\n",
       "      <td>20</td>\n",
       "      <td>14000</td>\n",
       "      <td>1000</td>\n",
       "    </tr>\n",
       "  </tbody>\n",
       "</table>\n",
       "</div>"
      ],
      "text/plain": [
       "     d-12      d0     d12       d24       d36       d48       d60       d72  \\\n",
       "0  3.5530  4.8470  3.5530  2.740190  2.076770  1.594890  1.315030  1.108210   \n",
       "1  3.0134  4.2338  3.0134  2.360310  1.839380  1.460430  1.218010  1.020100   \n",
       "2  1.9784  3.0449  1.9784  1.638870  1.379580  1.174870  1.003340  0.833185   \n",
       "3  1.4079  2.3631  1.4079  1.246110  1.116860  0.990264  0.857186  0.714686   \n",
       "4  0.8913  1.7767  0.8913  0.826312  0.762963  0.686354  0.598195  0.502679   \n",
       "5  2.7353  3.4013  2.7353  2.224820  1.768450  1.419290  1.172140  0.957926   \n",
       "6  2.4309  3.0640  2.4309  1.993870  1.613300  1.322090  1.106340  0.911537   \n",
       "7  1.6978  2.2476  1.6978  1.450690  1.250700  1.085750  0.934309  0.778159   \n",
       "8  1.2053  1.6507  1.2053  1.096470  0.996473  0.889481  0.773159  0.649443   \n",
       "9  0.7776  1.1785  0.7776  0.725970  0.670631  0.604005  0.528459  0.447075   \n",
       "\n",
       "    Load  T_conc  T_base  E_subg  E_base  E_conc  \n",
       "0  12000     300     300      20      30     500  \n",
       "1  12000     300     300      20      70     500  \n",
       "2  12000     300     300      20     350     500  \n",
       "3  12000     300     300      20    1400     500  \n",
       "4  12000     300     300      20   14000     500  \n",
       "5  12000     300     300      20      30    1000  \n",
       "6  12000     300     300      20      70    1000  \n",
       "7  12000     300     300      20     350    1000  \n",
       "8  12000     300     300      20    1400    1000  \n",
       "9  12000     300     300      20   14000    1000  "
      ]
     },
     "execution_count": 28,
     "metadata": {},
     "output_type": "execute_result"
    }
   ],
   "source": [
    "df_data.head(10)"
   ]
  },
  {
   "cell_type": "code",
   "execution_count": 29,
   "metadata": {},
   "outputs": [
    {
     "name": "stdout",
     "output_type": "stream",
     "text": [
      "<class 'pandas.core.frame.DataFrame'>\n",
      "RangeIndex: 5000 entries, 0 to 4999\n",
      "Data columns (total 14 columns):\n",
      "d-12      5000 non-null float64\n",
      "d0        5000 non-null float64\n",
      "d12       5000 non-null float64\n",
      "d24       5000 non-null float64\n",
      "d36       5000 non-null float64\n",
      "d48       5000 non-null float64\n",
      "d60       5000 non-null float64\n",
      "d72       5000 non-null float64\n",
      "Load      5000 non-null int64\n",
      "T_conc    5000 non-null int64\n",
      "T_base    5000 non-null int64\n",
      "E_subg    5000 non-null int64\n",
      "E_base    5000 non-null int64\n",
      "E_conc    5000 non-null int64\n",
      "dtypes: float64(8), int64(6)\n",
      "memory usage: 547.0 KB\n"
     ]
    }
   ],
   "source": [
    "df_data.info()"
   ]
  },
  {
   "cell_type": "code",
   "execution_count": 30,
   "metadata": {},
   "outputs": [],
   "source": [
    "df_data = (df_data - df_data.mean()) / df_data.std()"
   ]
  },
  {
   "cell_type": "code",
   "execution_count": 31,
   "metadata": {},
   "outputs": [
    {
     "name": "stdout",
     "output_type": "stream",
     "text": [
      "(5000, 1)\n",
      "(5000, 1)\n",
      "(5000, 1)\n",
      "(5000, 1)\n",
      "(5000, 1)\n",
      "(5000, 1)\n",
      "(5000, 1)\n",
      "(5000, 1)\n",
      "(5000, 1)\n",
      "(5000, 1)\n",
      "(5000, 1)\n",
      "(5000, 1)\n",
      "(5000, 1)\n",
      "(5000, 1)\n"
     ]
    }
   ],
   "source": [
    "point_1 = df_data['d-12'].values.reshape(-1, 1)\n",
    "point_2 = df_data['d0'].values.reshape(-1, 1)\n",
    "point_3 = df_data['d12'].values.reshape(-1, 1)\n",
    "point_4 = df_data['d24'].values.reshape(-1, 1)\n",
    "point_5 = df_data['d36'].values.reshape(-1, 1)\n",
    "point_6 = df_data['d48'].values.reshape(-1, 1)\n",
    "point_7 = df_data['d60'].values.reshape(-1, 1)\n",
    "point_8 = df_data['d72'].values.reshape(-1, 1)\n",
    "loading = df_data['Load'].values.reshape(-1, 1)\n",
    "T_conc = df_data['T_conc'].values.reshape(-1, 1)\n",
    "T_base = df_data['T_base'].values.reshape(-1, 1)\n",
    "E_subg = df_data['E_subg'].values.reshape(-1, 1)\n",
    "E_base = df_data['E_base'].values.reshape(-1, 1)\n",
    "E_conc = df_data['E_conc'].values.reshape(-1, 1)\n",
    "\n",
    "print(point_1.shape)\n",
    "print(point_2.shape)\n",
    "print(point_3.shape)\n",
    "print(point_4.shape)\n",
    "print(point_5.shape)\n",
    "print(point_6.shape)\n",
    "print(point_7.shape)\n",
    "print(point_8.shape)\n",
    "print(loading.shape)\n",
    "print(T_conc.shape)\n",
    "print(T_base.shape)\n",
    "print(E_subg.shape)\n",
    "print(E_base.shape)\n",
    "print(E_conc.shape)"
   ]
  },
  {
   "cell_type": "code",
   "execution_count": 32,
   "metadata": {},
   "outputs": [
    {
     "data": {
      "text/plain": [
       "array([[ 0.45757337],\n",
       "       [ 0.29846088],\n",
       "       [-0.00673078],\n",
       "       ...,\n",
       "       [-0.43046508],\n",
       "       [-0.48388512],\n",
       "       [-0.53651255]])"
      ]
     },
     "execution_count": 32,
     "metadata": {},
     "output_type": "execute_result"
    }
   ],
   "source": [
    "point_1"
   ]
  },
  {
   "cell_type": "code",
   "execution_count": 33,
   "metadata": {},
   "outputs": [
    {
     "name": "stdout",
     "output_type": "stream",
     "text": [
      "(5000, 13)\n",
      "(5000, 1)\n"
     ]
    }
   ],
   "source": [
    "data_x = np.concatenate((point_1, point_2, point_3, point_4, point_5, point_6, point_7, point_8,\n",
    "                      loading, T_conc, T_base, E_subg, E_base), axis=1)\n",
    "#data_y = np.concatenate((E_AC), axis=1)\n",
    "data_y = E_conc\n",
    "print(data_x.shape)\n",
    "print(data_y.shape)"
   ]
  },
  {
   "cell_type": "code",
   "execution_count": 34,
   "metadata": {},
   "outputs": [
    {
     "data": {
      "text/plain": [
       "array([[ 0.45757337,  0.31177869,  0.39496806, ..., -0.99989999,\n",
       "        -0.82253257, -0.57739053],\n",
       "       [ 0.29846088,  0.19916134,  0.24367391, ..., -0.99989999,\n",
       "        -0.82253257, -0.57003524],\n",
       "       [-0.00673078, -0.01918628, -0.0465215 , ..., -0.99989999,\n",
       "        -0.82253257, -0.51854818],\n",
       "       ...,\n",
       "       [-0.43046508, -0.44360086, -0.45000865, ...,  0.99989999,\n",
       "         1.73613273, -0.51854818],\n",
       "       [-0.48388512, -0.47800921, -0.50057106, ...,  0.99989999,\n",
       "         1.73613273, -0.32547173],\n",
       "       [-0.53651255, -0.51388037, -0.55046785, ...,  0.99989999,\n",
       "         1.73613273,  1.99144569]])"
      ]
     },
     "execution_count": 34,
     "metadata": {},
     "output_type": "execute_result"
    }
   ],
   "source": [
    "data_x"
   ]
  },
  {
   "cell_type": "code",
   "execution_count": 35,
   "metadata": {},
   "outputs": [
    {
     "name": "stdout",
     "output_type": "stream",
     "text": [
      "(5000, 13) (5000, 1) (0, 13) (0, 1)\n"
     ]
    }
   ],
   "source": [
    "#x_train = np.array(data[:40000,:])\n",
    "#y_train = np.array(data[30:40030,3]).reshape(-1, 1)\n",
    "\n",
    "#x_test = np.array(data[40001:55277-30,:])\n",
    "#y_test = np.array(data[40031:,3]).reshape(-1, 1)\n",
    "\n",
    "#print(x_train.shape, y_train.shape, x_test.shape, y_test.shape)\n",
    "\n",
    "#x_train = np.array(data[:4500,:])\n",
    "#y_train = np.array(data[:4500,11:]).reshape(-1, 1)\n",
    "\n",
    "#x_test = np.array(data[4500:,:])\n",
    "#y_test = np.array(data[4500:,11:]).reshape(-1, 1)\n",
    "\n",
    "split_value = 5000\n",
    "x_train = data_x[:split_value, :]\n",
    "y_train = data_y[:split_value, 0].reshape(-1, 1)\n",
    "\n",
    "x_test = data_x[split_value:].reshape(-1, 13)\n",
    "y_test = data_y[split_value:].reshape(-1, 1)\n",
    "\n",
    "print(x_train.shape, y_train.shape, x_test.shape, y_test.shape)\n",
    "\n",
    "# print(x_train.shape, y_train1.shape, y_train2.shape, y_train3.shape,\n",
    "#        x_test.shape, y_test1.shape, y_test2.shape, y_test3.shape)"
   ]
  },
  {
   "cell_type": "code",
   "execution_count": 45,
   "metadata": {},
   "outputs": [],
   "source": [
    "h_units = 32\n",
    "activation_ = 'relu'\n",
    "\n",
    "def dnn_model():\n",
    "    model = Sequential()\n",
    "    \n",
    "    model.add(Dense(units=h_units, input_dim=13))#, kernel_initializer='he_uniform'))\n",
    "#    model.add(BatchNormalization())\n",
    "#    model.add(Dropout(0.25))\n",
    "    model.add(Activation(activation_))\n",
    "    \n",
    "    model.add(Dense(units=h_units))\n",
    "#    model.add(BatchNormalization())\n",
    "#    model.add(Dropout(0.25))\n",
    "    model.add(Activation(activation_))\n",
    "    \n",
    "    model.add(Dense(units=h_units))#, kernel_initializer='he_uniform'))\n",
    "#    model.add(BatchNormalization())\n",
    "#    model.add(Dropout(0.5))\n",
    "    model.add(Activation(activation_))\n",
    "    \n",
    "    model.add(Dense(units=h_units))\n",
    "    #model.add(BatchNormalization())\n",
    "    #model.add(Activation(activation_))\n",
    "\n",
    "    model.add(Dense(units=1))\n",
    "\n",
    "    return model"
   ]
  },
  {
   "cell_type": "code",
   "execution_count": 46,
   "metadata": {},
   "outputs": [],
   "source": [
    "model = dnn_model()\n",
    "model.compile(loss='mse', optimizer='adam', metrics=['mae'])"
   ]
  },
  {
   "cell_type": "code",
   "execution_count": 60,
   "metadata": {},
   "outputs": [],
   "source": [
    "# training\n",
    "# hist = model.fit(x_train, y_train, batch_size=256, epochs=500, verbose=True, validation_data=(x_test, y_test), shuffle=True)\n",
    "hist = model.fit(x_train, y_train, batch_size=1024, epochs=500, verbose=False, shuffle=False, validation_data=(x_train, y_train))"
   ]
  },
  {
   "cell_type": "code",
   "execution_count": 61,
   "metadata": {},
   "outputs": [
    {
     "data": {
      "image/png": "[encoded data removed]",
      "text/plain": [
       "<Figure size 432x288 with 1 Axes>"
      ]
     },
     "metadata": {
      "needs_background": "light"
     },
     "output_type": "display_data"
    }
   ],
   "source": [
    "%matplotlib inline\n",
    "import matplotlib.pyplot as plt\n",
    "\n",
    "fig, loss_ax = plt.subplots()\n",
    "\n",
    "loss_ax.plot(hist.history['loss'], 'b', label='train loss')\n",
    "loss_ax.plot(hist.history['val_loss'], 'r', label='test loss')\n",
    "\n",
    "loss_ax.set_xlabel('epoch')\n",
    "loss_ax.set_ylabel('loss')\n",
    "\n",
    "loss_ax.legend(loc='upper right')\n",
    "\n",
    "plt.show()"
   ]
  },
  {
   "cell_type": "code",
   "execution_count": 62,
   "metadata": {},
   "outputs": [],
   "source": [
    "y_pred = model.predict(data_x)"
   ]
  },
  {
   "cell_type": "code",
   "execution_count": 63,
   "metadata": {},
   "outputs": [
    {
     "name": "stdout",
     "output_type": "stream",
     "text": [
      "(5000, 1) (5000, 1)\n"
     ]
    }
   ],
   "source": [
    "print(y_pred.shape, data_y.shape)"
   ]
  },
  {
   "cell_type": "code",
   "execution_count": 64,
   "metadata": {},
   "outputs": [
    {
     "data": {
      "image/png": "[encoded data removed]",
      "text/plain": [
       "<Figure size 432x288 with 1 Axes>"
      ]
     },
     "metadata": {
      "needs_background": "light"
     },
     "output_type": "display_data"
    }
   ],
   "source": [
    "plt.plot(data_y, color='red')\n",
    "plt.plot(y_pred, color='blue')\n",
    "plt.show()"
   ]
  },
  {
   "cell_type": "code",
   "execution_count": 65,
   "metadata": {},
   "outputs": [
    {
     "name": "stderr",
     "output_type": "stream",
     "text": [
      "No handles with labels found to put in legend.\n"
     ]
    },
    {
     "data": {
      "image/png": "[encoded data removed]",
      "text/plain": [
       "<Figure size 648x648 with 1 Axes>"
      ]
     },
     "metadata": {
      "needs_background": "light"
     },
     "output_type": "display_data"
    }
   ],
   "source": [
    "# visualization for prediction result\n",
    "# set figure size\n",
    "plt.figure(figsize=(9,9))\n",
    "\n",
    "#pd.DataFrame(y_pred).to_csv('file2.csv', header='none')\n",
    "# np.savetxt('file.csv', y_pred, delimiter=\",\")\n",
    "\n",
    "# set font\n",
    "font = {'family': 'Arial', 'weight': 'normal', 'size': 16}\n",
    "plt.rc('font', **font)\n",
    "\n",
    "# plot data\n",
    "x = [-2, 2]\n",
    "y = [-2, 2]\n",
    "\n",
    "for i in range(1):\n",
    "    plt.plot(data_y[:,i], y_pred[:,i], 'bo')\n",
    "    plt.plot(x, y, 'r')\n",
    "\n",
    "    # set legend position\n",
    "    plt.legend(shadow=True, loc='upper right')\n",
    "\n",
    "    # set x-axis & y-axis titles\n",
    "    plt.title('AC modulus prediction result using Multi Perceptron')\n",
    "    plt.xlabel('Real Data')\n",
    "    plt.ylabel('Predicted Data')\n",
    "\n",
    "    # set axis-limits\n",
    "    #plt.xlim(left = 0) \n",
    "    #plt.ylim(bottom = 0) \n",
    "\n",
    "    # set grid\n",
    "    plt.grid(color='gray', linestyle='--', linewidth=1)\n",
    "\n",
    "    # save & display figure\n",
    "    plt.savefig('prediction_result_{}.png'.format(i))\n",
    "    plt.show()"
   ]
  },
  {
   "cell_type": "code",
   "execution_count": null,
   "metadata": {},
   "outputs": [],
   "source": [
    "#모델 평가하기\n",
    "trainScore = model.evaluate(x_train, y_train3, verbose=0)\n",
    "print('Train Score: ', trainScore)\n",
    "#valScore = model.evaluate(x_val, y_val, verbose=0)\n",
    "#print('Validataion Score: ', valScore)\n",
    "testScore = model.evaluate(x_test, y_test3, verbose=0)\n",
    "print('Test Score: ', testScore)"
   ]
  },
  {
   "cell_type": "code",
   "execution_count": null,
   "metadata": {},
   "outputs": [],
   "source": [
    "#MAPE\n",
    "\n",
    "y_test3, y_pred = np.array(y_test3), np.array(y_pred)\n",
    "mape = np.mean(np.abs((y_test3 - y_pred) / y_test3)) * 100\n",
    "print('MAPE: ', mape)"
   ]
  },
  {
   "cell_type": "code",
   "execution_count": null,
   "metadata": {},
   "outputs": [],
   "source": []
  }
 ],
 "metadata": {
  "kernelspec": {
   "display_name": "Python 3",
   "language": "python",
   "name": "python3"
  },
  "language_info": {
   "codemirror_mode": {
    "name": "ipython",
    "version": 3
   },
   "file_extension": ".py",
   "mimetype": "text/x-python",
   "name": "python",
   "nbconvert_exporter": "python",
   "pygments_lexer": "ipython3",
   "version": "3.7.4"
  }
 },
 "nbformat": 4,
 "nbformat_minor": 4
}
